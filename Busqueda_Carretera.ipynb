{
 "cells": [
  {
   "cell_type": "markdown",
   "metadata": {},
   "source": [
    "## Estado\n",
    "\n",
    "El estado es una matriz de adyacencia, que indicara cuales fragmentos de pista estan conectados, por ejemplo si la matriz es de $2 \\times 2 $, es decir tenemos solo dos piezas de carretera: \n",
    "$$\n",
    "\\begin{pmatrix}\n",
    "1 & 0 \\\\\n",
    "0 & 1 \n",
    "\\end{pmatrix}\n",
    "$$\n",
    "No nos interesa la diagonal de la matriz, porque las piezas no pueden estar conectadas hacia si mismos.\n",
    "\n",
    "Nuestra matriz sera de $ 32 \\times 32 $ porque tenemos 32 fragmentos  de piezas \n",
    "\n",
    "## Estado inicial"
   ]
  },
  {
   "cell_type": "code",
   "execution_count": null,
   "metadata": {},
   "outputs": [],
   "source": [
    "# importamos las librererias necesarias y configuramos manim, libreria necesaria para animaciones\n",
    "import numpy as np\n",
    "from manim import *\n",
    "import random\n",
    "config.media_width = \"100%\"\n",
    "\n",
    "# Declaramos las contantes, las cantidades de piezas de cada tipo\n",
    "RECTAS = 12\n",
    "CURVAS = 16\n",
    "DISECCION_1 = 2\n",
    "DISECCION_2 = 2\n",
    "\n",
    "#Inicializamos estado inicial, una matriz identidad de 32 x 32\n",
    "matriz_Adyescencia = np.eye(32)"
   ]
  },
  {
   "cell_type": "markdown",
   "metadata": {},
   "source": [
    "# Accion\n",
    "\n",
    "La accion es una tupla de enteros del 1 al 4, porque son 4 tipos de pista. \n",
    "1.  Pista Recta\n",
    "2.  Pista Curva\n",
    "3.  Pista Dissecion tipo 1 \n",
    "4.  Pista Dissecion tipo 2\n",
    "\n",
    "Estos numeros son seleccionados aleatoriamente"
   ]
  },
  {
   "cell_type": "code",
   "execution_count": null,
   "metadata": {},
   "outputs": [],
   "source": [
    "# Funcion para hacer una accion\n",
    "def Accion():\n",
    "    return random.randint(1,4), random.randint(1,4)"
   ]
  },
  {
   "cell_type": "markdown",
   "metadata": {},
   "source": [
    "# Funcion de Transicion\n",
    "Esta funcion debera recibir un estado y una accion, esta funcion debera verificar si la accion es posible y si es posible regresara el estado dada la accion.\n",
    "Para sabes si la accion posible deberan \n",
    "- La suma de la columna debera ser menor a dos "
   ]
  },
  {
   "cell_type": "code",
   "execution_count": 168,
   "metadata": {},
   "outputs": [],
   "source": [
    "def verificar_suma_columnas(matriz):\n",
    "    # Verificar las primeras 28 columnas (índices 0 a 27)\n",
    "    for j in range(28):\n",
    "        suma_columna = sum(matriz[i][j] for i in range(32))\n",
    "        if suma_columna > 2:\n",
    "            print(f\"Columna {j+1}: suma = {suma_columna} (debe ser ≤ 2)\")\n",
    "            return False\n",
    "    \n",
    "    # Verificar las columnas 29 a 32 (índices 28 a 31)\n",
    "    for j in range(28, 32):\n",
    "        suma_columna = sum(matriz[i][j] for i in range(32))\n",
    "        if suma_columna > 3:\n",
    "            print(f\"Columna {j+1}: suma = {suma_columna} (debe ser ≤ 3)\")\n",
    "            return False\n",
    "    return True\n",
    "\n",
    "\n",
    "            \n",
    "def rangos(tipo):\n",
    "    if tipo == 1:\n",
    "        return range(RECTAS)\n",
    "    elif tipo == 2:\n",
    "        return range(RECTAS, RECTAS + CURVAS)\n",
    "    elif tipo == 3:\n",
    "        return range(RECTAS + CURVAS, RECTAS + CURVAS + DISECCION_1)\n",
    "    elif tipo == 4:\n",
    "        return range(RECTAS + CURVAS + DISECCION_1,RECTAS + CURVAS + DISECCION_1 + DISECCION_1)\n",
    "    else:\n",
    "        return None\n",
    "    \n",
    "def Casilla_valida(matriz_np, tipo_1, tipo_2):\n",
    "\n",
    "    # Definir el rango de búsqueda\n",
    "    rango_1 = rangos(tipo_1)\n",
    "    rango_2 = rangos(tipo_2)\n",
    "    # Calcular sumas (excluyendo diagonal)\n",
    "    sumas_columnas = np.sum(matriz_np, axis=0) - np.diag(matriz_np)\n",
    "    sumas_filas = np.sum(matriz_np, axis=1) - np.diag(matriz_np)\n",
    "    print(f\"rango :{rango_1} rango 2: {rango_2}\")\n",
    "    # Buscar columnas válidas\n",
    "    for i in rango_1:\n",
    "        if sumas_columnas[i] == 0:\n",
    "            for j in rango_2:\n",
    "                if sumas_filas[j] == 0:\n",
    "                    if i != j and (matriz_np[i][j] != 1 and matriz_np[j][i] != 1):\n",
    "                        print(f\"matriz[i][j] {matriz_np[i][j]} matriz[j][i] {matriz_np[j][i]}\")\n",
    "                        return i,j\n",
    "    \n",
    "    return None"
   ]
  },
  {
   "cell_type": "code",
   "execution_count": 169,
   "metadata": {},
   "outputs": [],
   "source": [
    "def Funcion_transicion(matriz, accion):\n",
    "\n",
    "    if accion == 1:\n",
    "        return 0\n",
    "    elif accion == 2:\n",
    "        return 0\n",
    "    elif accion == 3:\n",
    "        return 0 \n",
    "    elif accion == 4:\n",
    "        return 0"
   ]
  },
  {
   "cell_type": "markdown",
   "metadata": {},
   "source": [
    "# Pruebas"
   ]
  },
  {
   "cell_type": "code",
   "execution_count": null,
   "metadata": {},
   "outputs": [
    {
     "name": "stdout",
     "output_type": "stream",
     "text": [
      "[[1. 0. 0. ... 0. 0. 0.]\n",
      " [1. 1. 0. ... 0. 0. 0.]\n",
      " [0. 0. 1. ... 0. 0. 0.]\n",
      " ...\n",
      " [0. 0. 0. ... 1. 0. 0.]\n",
      " [0. 0. 0. ... 0. 1. 0.]\n",
      " [0. 0. 0. ... 0. 0. 1.]]\n",
      "a:1  b:2\n",
      "rango :range(0, 12) rango 2: range(12, 28)\n",
      "matriz[i][j] 0.0 matriz[j][i] 0.0\n",
      "i:1 j:12\n"
     ]
    }
   ],
   "source": [
    "matriz_Adyescencia = np.eye(32)\n",
    "matriz_Adyescencia[1][0] = 1\n",
    "\n",
    "print(matriz_Adyescencia)\n",
    "accion = Accion()\n",
    "print(f\"a:{accion[0]}  b:{accion[1]}\")\n",
    "#i,j = Casilla_valida(matriz_Adyescencia, accion[0],accion[1])\n",
    "i,j = Casilla_valida(matriz_Adyescencia,accion[0],accion[1])\n",
    "\n",
    "print(f\"i:{i} j:{j}\")"
   ]
  }
 ],
 "metadata": {
  "kernelspec": {
   "display_name": "manim",
   "language": "python",
   "name": "python3"
  },
  "language_info": {
   "codemirror_mode": {
    "name": "ipython",
    "version": 3
   },
   "file_extension": ".py",
   "mimetype": "text/x-python",
   "name": "python",
   "nbconvert_exporter": "python",
   "pygments_lexer": "ipython3",
   "version": "3.12.3"
  }
 },
 "nbformat": 4,
 "nbformat_minor": 2
}
